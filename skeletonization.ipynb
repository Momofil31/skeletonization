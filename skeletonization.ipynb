{
  "cells": [
    {
      "cell_type": "code",
      "execution_count": 106,
      "metadata": {
        "id": "x3MO-1E8OZJc"
      },
      "outputs": [],
      "source": [
        "# imports\n",
        "from skimage.morphology import skeletonize\n",
        "from skimage import data\n",
        "import matplotlib.pyplot as plt\n",
        "from skimage.util import invert\n",
        "import numpy as np\n",
        "import cv2\n",
        "import time\n"
      ]
    },
    {
      "cell_type": "markdown",
      "metadata": {
        "id": "TsGKGtnMNZ3p"
      },
      "source": [
        "# Skeletonization of Binary Images\n"
      ]
    },
    {
      "cell_type": "markdown",
      "metadata": {
        "id": "j693uzemKklH"
      },
      "source": [
        "## Premises\n",
        "\n",
        "In this notebook I implement, demonstrate and compare various algorithms to perform Skeletonization of 2D images. For each algoritm presented there is a brief explanation of its logic and mechanism. The algorithms presented are:\n",
        "\n",
        "1.  Zhang's algorithms (1984)\n",
        "2.  Lee's algorithms (1994)\n",
        "3.  Morphological Thinning\n",
        "\n",
        "My implementations are not meant to be the most efficient but rather simple to understand, leaving out specific code optimizations.\n",
        "\n",
        "The language used is Python in conjunction with `numpy` and `scikit-image` libraries to perform image processing. `scikit-image` has already implemented (and optimized) versions of skeletonization algorithms and I use them as a metric to compare my own implementations.\n"
      ]
    },
    {
      "cell_type": "markdown",
      "metadata": {
        "id": "Tjxqhi3BORfD"
      },
      "source": [
        "## What is skeletonization\n",
        "\n",
        "Skeletonization is an image processing technique which reduces binary objects (e.g. images) to 1 pixel wide representations. This can be useful for feature extraction, and/or representing an object’s topology (2D or 3D).\n",
        "\n",
        "The skeleton of a region should fulfill the following conditions:\n",
        "\n",
        "1. Be a connected subset of points from the original region.\n",
        "2. Represent the geometric characterstics of the original region.\n",
        "3. Preserve some topological characterstics of the original region, such as connectivity and holes.\n",
        "\n",
        "There are three major skeletonization techniques:\n",
        "\n",
        "- Medial axis distance transform.\n",
        "- Non-pixel-based methods (determine\n",
        "  analytically the symmetric points of a shape from\n",
        "  opposite points in the shape edge and use them to extract the skeleton).\n",
        "- Thinning techniques.\n",
        "\n",
        "In this notebook I will discuss different _thinning_ algorithms since they are the most efficient and used commonly in state-of-the-art technologies.\n",
        "\n",
        "The code below demonstrates an example of skeletonized binary image using scikit-image library.\n"
      ]
    },
    {
      "cell_type": "code",
      "execution_count": 3,
      "metadata": {
        "colab": {
          "base_uri": "https://localhost:8080/",
          "height": 275
        },
        "id": "5IYENf-iPea9",
        "outputId": "cad87b29-2af2-4280-a478-ab1752667259"
      },
      "outputs": [
        {
          "data": {
            "image/png": "[encoded data removed]",
            "text/plain": [
              "<Figure size 576x288 with 2 Axes>"
            ]
          },
          "metadata": {
            "needs_background": "light"
          },
          "output_type": "display_data"
        }
      ],
      "source": [
        "# Invert the horse image\n",
        "image = invert(data.horse())\n",
        "\n",
        "# perform skeletonization\n",
        "skeleton = skeletonize(image)\n",
        "\n",
        "# display results\n",
        "fig, axes = plt.subplots(nrows=1, ncols=2, figsize=(8, 4),\n",
        "                         sharex=True, sharey=True)\n",
        "\n",
        "ax = axes.ravel()\n",
        "\n",
        "ax[0].imshow(image, cmap=plt.cm.gray)\n",
        "ax[0].axis('off')\n",
        "ax[0].set_title('original', fontsize=20)\n",
        "\n",
        "ax[1].imshow(skeleton, cmap=plt.cm.gray)\n",
        "ax[1].axis('off')\n",
        "ax[1].set_title('skeleton', fontsize=20)\n",
        "\n",
        "fig.tight_layout()\n"
      ]
    },
    {
      "cell_type": "markdown",
      "metadata": {
        "id": "Rds_w7PqQr88"
      },
      "source": [
        "# Zhang's Algorithm\n",
        "\n",
        "[Zha84] A fast parallel algorithm for thinning digital patterns,\n",
        "T. Y. Zhang and C. Y. Suen, Communications of the ACM,\n",
        "March 1984, Volume 27, Number 3.\n",
        "\n",
        "A binary image is defined by a matrix `M` where each pixel `M[i][j]` is either 0 or 1. A region in the image is more than 1 pixel thick.\n",
        "Zhang's algorithm iterates over the image until stability applying a transformation on each pixel based on the values of neighbouring pixels.\n",
        "\n",
        "Given an element of the matrix `M[i][j]` that we call $P_1$ the neighbours of $P_1$ are defined as follows.\n",
        "\n",
        "|                    |                  |                    |\n",
        "| ------------------ | ---------------- | ------------------ |\n",
        "| $P_9$ `[i-1][j-1]` | $P_2$ `[i-1][j]` | $P_3$ `[i-1][j+1]` |\n",
        "| $P_8$ `[i][j-1]`   | $P_1$ `[i][j]`   | $P_4$ `[i][j+1]`   |\n",
        "| $P_7$ `[i+1][j-1]` | $P_6$ `[i+1][j]` | $P_5$ `[i+1][j+1]` |\n",
        "\n",
        "Since it is a parallel algorithm the new value given to a pixel at the $n$-th iteration depends on ts own value as well as those of its eight neighbors at the $(n-1)$-th iteration. This allows all pixel to be processed simultanously.\n",
        "\n",
        "For the sake of simplicity, my implementation processes pixels in series and do not utilize parallel programming tecniques.\n",
        "\n",
        "The algorithm consist of iteratively removing all contour points which satify some conditions. An iteration is divided into two sub-iterations with different conditions to be satisfied.\n",
        "\n",
        "For sub-iteration 1 a point $P_1$ is deleted if the following conditions are satisfied:\n",
        "\n",
        "1. $2 ≤ B(P_1) ≤ 6$\n",
        "2. $A(P_1) = 1$\n",
        "3. $P_2 * P_4 * P_6 = 0$\n",
        "4. $P_4 * P_6 * P_8 = 0$\n",
        "\n",
        "where $B(P_1)$ is the number of non zero neighbours of $P_1$ and $A(P_1)$ is the number of 0-1 patterns in the set of neighbours orderd as $P_2, P_3, \\dots, P_8, P_9$.\n",
        "Condition 1. and 2. are needed, respectively, in order to preserve the endpoints of a skeleton and to preserve connectivity, i.e. to prevent the deletion of points which lie between endpoints, as showed by the figure below.\n",
        "Conditions 3. and 4. together allow to remove from the region an East or South boundary point or a North-West corner point.\n",
        "\n",
        "![connectivity-endpoints.png](https://drive.google.com/uc?id=1a9l0QBQLm6NglUp4BGT04GurRVw6JFY8)\n",
        "\n",
        "For sub-iteration 2 only condition 3. and 4. are changed as follows:\n",
        "\n",
        "3. $P_2 * P_4 * P_8 = 0$\n",
        "4. $P_2 * P_6 * P_8 = 0$\n",
        "\n",
        "The new conditions 3. and 4. together allow to remove from the region an West or North boundary point or a South-East corner point.\n"
      ]
    },
    {
      "cell_type": "code",
      "execution_count": 109,
      "metadata": {
        "id": "kszgZQcoFPj1"
      },
      "outputs": [],
      "source": [
        "def zhang_skeletonize(image, save_steps=False, path_to_save_steps=\"zhang/\"):\n",
        "    '''Given a 2D binary image, skeletonize it using Zhang's Method'''\n",
        "\n",
        "    # add padding of zeros to avoid to access out of bounds\n",
        "    cleaned_skeleton = np.pad(\n",
        "        image, pad_width=1, mode='constant', constant_values=0)\n",
        "    rows, cols = cleaned_skeleton.shape\n",
        "    skeleton = np.zeros((rows, cols), dtype=np.uint8)\n",
        "    skeleton[:, :] = cleaned_skeleton > 0\n",
        "    pixel_removed = True\n",
        "    step = 0\n",
        "    while pixel_removed:\n",
        "        pixel_removed = False\n",
        "        # Sub-iterations\n",
        "        for sub_iter in range(1, 3):\n",
        "            # Iteration over the image\n",
        "            for i in range(1, rows-1):\n",
        "                for j in range(1, cols-1):\n",
        "                    if (skeleton[i, j] == 1):  # avoid already zero pixels\n",
        "                        neighbours = get_neighbours(i, j, skeleton)\n",
        "                        P2, P3, P4, P5, P6, P7, P8, P9 = neighbours\n",
        "                        non_zero_neighbours = sum(neighbours)\n",
        "                        if (2 <= non_zero_neighbours <= 6  # Condition 1.\n",
        "                                and numberOfZeroOnePatterns(neighbours) == 1):  # Condition 2.\n",
        "                            if (sub_iter == 1\n",
        "                                    and P2*P4*P6 == 0 and P4*P6*P8 == 0):  # Condition 3. 4. sub-iteration 1\n",
        "                                cleaned_skeleton[i, j] = 0\n",
        "                                pixel_removed = True\n",
        "                            elif (sub_iter == 2\n",
        "                                  and P2*P4*P8 == 0 and P2*P6*P8 == 0):  # Condition 3. 4. sub-iteration 2\n",
        "                                cleaned_skeleton[i, j] = 0\n",
        "                                pixel_removed = True\n",
        "\n",
        "            skeleton[:, :] = cleaned_skeleton[:, :]\n",
        "        if save_steps:\n",
        "            write_frames(path_to_save_steps, skeleton, step)\n",
        "        step += 1\n",
        "    return skeleton[1:-1, 1:-1]\n",
        "\n",
        "\n",
        "def get_neighbours(i, j, img):\n",
        "    '''Return 8-neighbours of image point P1(x,y), in a clockwise order'''\n",
        "    return [img[i-1, j], img[i-1, j+1], img[i, j+1], img[i+1, j+1],\n",
        "            img[i+1, j], img[i+1, j-1], img[i, j-1], img[i-1, j-1]]\n",
        "\n",
        "\n",
        "def numberOfZeroOnePatterns(neighbours):\n",
        "    '''No. of 0,1 patterns (transitions from 0 to 1) in the ordered sequence'''\n",
        "    n = neighbours + neighbours[0:1]  # P2, P3, ... , P8, P9, P2\n",
        "    # (P2,P3), (P3,P4), ... , (P8,P9), (P9,P2)\n",
        "    return sum((a, b) == (0, 1) for a, b in zip(n, n[1:]))\n",
        "\n",
        "\n",
        "def write_frames(path, image, index):\n",
        "    image_to_print = image.astype(np.uint8)  # convert to an unsigned byte\n",
        "    image_to_print *= 255\n",
        "    cv2.imwrite(f\"{path}img_{index:03}.png\", image_to_print)\n"
      ]
    },
    {
      "cell_type": "code",
      "execution_count": 110,
      "metadata": {
        "colab": {
          "base_uri": "https://localhost:8080/",
          "height": 292
        },
        "id": "MJqTTyeo00Ju",
        "outputId": "c987e1c3-f400-49bc-c807-ab6d5edebbfa"
      },
      "outputs": [
        {
          "name": "stdout",
          "output_type": "stream",
          "text": [
            "(328, 400)\n"
          ]
        },
        {
          "data": {
            "text/plain": [
              "Text(0.5, 0.98, \"Zhang's method\")"
            ]
          },
          "execution_count": 110,
          "metadata": {},
          "output_type": "execute_result"
        },
        {
          "data": {
            "image/png": "[encoded data removed]",
            "text/plain": [
              "<Figure size 576x288 with 2 Axes>"
            ]
          },
          "metadata": {
            "needs_background": "light"
          },
          "output_type": "display_data"
        }
      ],
      "source": [
        "# Load image from skimage dataset\n",
        "# Invert the horse image\n",
        "image = np.array(invert(data.horse()))\n",
        "print(image.shape)\n",
        "\n",
        "# Skeletonize the image using Zhang's Method\n",
        "skeleton = zhang_skeletonize(image)\n",
        "\n",
        "# display results\n",
        "fig, axes = plt.subplots(nrows=1, ncols=2, figsize=(8, 4),\n",
        "                         sharex=True, sharey=True)\n",
        "\n",
        "ax = axes.ravel()\n",
        "\n",
        "ax[0].imshow(image, cmap=plt.cm.gray)\n",
        "ax[0].axis('off')\n",
        "ax[0].set_title('original', fontsize=20)\n",
        "\n",
        "ax[1].imshow(skeleton, cmap=plt.cm.gray)\n",
        "ax[1].axis('off')\n",
        "ax[1].set_title('skeleton', fontsize=20)\n",
        "\n",
        "fig.tight_layout()\n",
        "fig.suptitle(\"Zhang's method\", fontsize=25)\n"
      ]
    },
    {
      "cell_type": "code",
      "execution_count": null,
      "metadata": {},
      "outputs": [],
      "source": [
        "# Create video from images\n",
        "!ffmpeg - y - framerate 25 - pattern_type glob - i 'zhang/*.png' - c: v libx264 - pix_fmt yuv420p zhang/out.mp4\n"
      ]
    },
    {
      "cell_type": "markdown",
      "metadata": {},
      "source": [
        "# Morphological Thinning\n",
        "\n",
        "Morphological thinning is a morphological operation that removes pixels from a region of a binary image. As I said before it is commonly used as a skeletonization technique.\n",
        "\n",
        "To do its magic morphological thinning relies on the Hit-and-Miss transform which one of the basic morphological operations.\n",
        "\n",
        "### Hit-and-Miss Transform\n",
        "\n",
        "The hit-and-miss transform is a general binary morphological operation that can be used to look for specific patterns of _foreground_ and _background_ pixels (respectively 1s and 0s pixels) an image.\n",
        "\n",
        "It takes a binary image and a _structuring element_ or _kernel_ as input and outputs another binary image. The kernel can contain both 1s and 0s and some special `null` pixels which are not considered in the computation. For example in the following figure it is represented a 3x3 hit-and-miss kernel.\n",
        "\n",
        "![isolate-point-kernel](https://drive.google.com/uc?id=1aHXhQh_BJ9ngTow08PK8RXTTKt6mVow6)\n",
        "\n",
        "The hit-and-miss operation is performed simply iterating over all pixels of the image and comparing the _kernel_ with the underlying image pixels. If they exactly match the pixel under the pixel is set to 1 otherwise is set to 0.\n",
        "\n",
        "### Thinning using the Hit-and-Miss Transform\n",
        "\n",
        "The thinning operation is fairly simple. Given an image $I$ and a kernel $J$ is:\n",
        "\n",
        "$ thin(I, J) = I-hit$-$and$-$miss(I,J)$\n",
        "\n",
        "where the subtraction is the logical subtraction $X-Y = X \\cap \\neg Y$\n",
        "\n",
        "In english, the pixel we're iterating on is set to 0 if the kernel and the underlying image pixels (\"the neighborhood\") _do not_ exactly match otherwise, it is left unchanged.\n",
        "\n",
        "In order to obtain a skeleton the complete pass over the pixels of the image should be repeated until it causes no further changes.\n",
        "\n",
        "### Skeletonization kernels\n",
        "\n",
        "Skeletonization should erode away the boundaries of the object region as much as possible preserving the topological characteristics of the object, i.e. connectivity, holes, geometry etc.\n",
        "\n",
        "This can be achieved using the two kernels shown below and all their 90° rotations. The first allows to detect a pixel belonging to a Nord, South, East or West border which can be deleted. The second allows to detect a pixel belonging to a Nord-East, South-East, Nord-West or South-West corner which can be deleted.\n",
        "\n",
        "This can be achieved using the two kernels shown below and all their 90° rotations. In this way we're determining the _octagonal skeleton_ of the region, i.e. the set of point that lie at the centers of octagons that fit entirely inside the region without touching the boundary at at least two points.\n",
        "This method is guaranteed to produce a connected skeleton.\n",
        "\n",
        "![corner-kernel](https://drive.google.com/uc?id=1aKpZhFD11uUJcW4i3bKvWYazgB13oFkN)\n",
        "![border-kernel](https://drive.google.com/uc?id=1aG2FNu6ID3N8PoGkXGMYYzIuc9jxpQYI)\n",
        "\n",
        "Skeletons obtained by this tecnique can present short spurs produced by small irregularities in the boundary of the original object. In the image below it is possibile to see the spurs after obtaining the skeleton.\n",
        "\n",
        "![spur-example](https://drive.google.com/uc?id=1aRpBKrHLvxQXYr2kcSe4BZqZlALjSKBU)\n",
        "\n",
        "These spurs can be removed by a process called pruning. The kernels used to perform pruning are the following and all their 90° rotations. Pruning should be performed for a fixed number of iterations instead of to convergence since pruning until convergence will actually remove all pixels except those that form closed loops.\n",
        "\n",
        "![spur-1-kernel](https://drive.google.com/uc?id=1aPYgHMVB4Li7wBXwUA4c761oG2BHoaf9)\n",
        "![spur-2-kernel](https://drive.google.com/uc?id=1aR4UJLXKcqgU0ojC6LYUvbGnc5nw-pDI)\n"
      ]
    },
    {
      "cell_type": "code",
      "execution_count": 138,
      "metadata": {},
      "outputs": [],
      "source": [
        "# 0 pixels are the \"null\" pixels, -1 pixels are background pixels, 1 pixels are foreground pixels\n",
        "border_kernel = np.array([[0, -1, -1], [1, 1, -1], [0, 1, 0]], dtype=\"int\")\n",
        "corner_kernel = np.array([[-1, -1, -1], [0, 1, 0], [1, 1, 1]], dtype=\"int\")\n",
        "\n",
        "kernels = [\n",
        "    border_kernel,\n",
        "    corner_kernel,\n",
        "    np.rot90(border_kernel),\n",
        "    np.rot90(corner_kernel),\n",
        "    np.rot90(np.rot90(border_kernel)),\n",
        "    np.rot90(np.rot90(corner_kernel)),\n",
        "    np.rot90(np.rot90(np.rot90(border_kernel))),\n",
        "    np.rot90(np.rot90(np.rot90(corner_kernel)))\n",
        "]\n",
        "\n",
        "spur1_kernel = np.array([[-1, -1, -1], [-1, 1, -1], [0, 0, -1]], dtype=\"int\")\n",
        "spur2_kernel = np.array([[-1, -1, -1], [-1, 1, -1], [-1, 0, 0]], dtype=\"int\")\n",
        "\n",
        "spur_kernels = [\n",
        "    spur1_kernel,\n",
        "    spur2_kernel,\n",
        "    np.rot90(spur1_kernel),\n",
        "    np.rot90(spur2_kernel),\n",
        "    np.rot90(np.rot90(spur1_kernel)),\n",
        "    np.rot90(np.rot90(spur2_kernel)),\n",
        "    np.rot90(np.rot90(np.rot90(spur1_kernel))),\n",
        "    np.rot90(np.rot90(np.rot90(spur2_kernel))),\n",
        "]\n",
        "\n",
        "\n",
        "def write_frames(path, image, index, show=False):\n",
        "    image_to_print = image.astype(np.uint8)  # convert to an unsigned byte\n",
        "    image_to_print *= 255\n",
        "    cv2.imwrite(f\"{path}img_{index:03}.png\", image_to_print)\n",
        "    if show:\n",
        "        cv2.imshow(\"Frame\", image_to_print)\n",
        "        cv2.waitKey(0)\n",
        "\n",
        "\n",
        "def morph_thinning_skeletonize(image, save_steps=False, path_to_save_steps=\"morph_thinning/\", pruning=False, pruning_iters=10):\n",
        "    '''Given a 2D binary image, skeletonize it using Zhang's Method'''\n",
        "\n",
        "    # add padding of zeros to avoid to access out of bounds\n",
        "    cleaned_skeleton = np.pad(\n",
        "        image, pad_width=1, mode='constant', constant_values=0)\n",
        "    cleaned_skeleton = cleaned_skeleton.astype(np.uint8)\n",
        "    rows, cols = cleaned_skeleton.shape\n",
        "    skeleton = np.zeros(cleaned_skeleton.shape, dtype=np.uint8)\n",
        "    skeleton[:, :] = cleaned_skeleton > 0\n",
        "    pixel_removed = True\n",
        "    step = 0\n",
        "    while pixel_removed:\n",
        "        pixel_removed = False\n",
        "\n",
        "        for kernel in kernels:\n",
        "            out_image = cv2.morphologyEx(\n",
        "                cleaned_skeleton, cv2.MORPH_HITMISS, kernel)\n",
        "            cleaned_skeleton = cleaned_skeleton - out_image\n",
        "\n",
        "        if (not np.array_equal(skeleton, cleaned_skeleton)):\n",
        "            pixel_removed = True\n",
        "            skeleton = cleaned_skeleton\n",
        "\n",
        "        if save_steps:\n",
        "            if step % 1 == 0:\n",
        "                write_frames(path_to_save_steps, skeleton, step)\n",
        "        step += 1\n",
        "        #print(f\"Step {step}\")\n",
        "\n",
        "    if pruning:\n",
        "        pixel_removed = True\n",
        "        for i in range(pruning_iters):\n",
        "            if not pixel_removed:\n",
        "                break\n",
        "            for kernel in spur_kernels:\n",
        "                out_image = cv2.morphologyEx(\n",
        "                    cleaned_skeleton, cv2.MORPH_HITMISS, kernel)\n",
        "                cleaned_skeleton = cleaned_skeleton - out_image\n",
        "            if (not np.array_equal(skeleton, cleaned_skeleton)):\n",
        "                skeleton = cleaned_skeleton\n",
        "                pixel_removed = True\n",
        "            if save_steps:\n",
        "                write_frames(path_to_save_steps, skeleton, step+i)\n",
        "                #print(f\"Pruning step {i}\")\n",
        "\n",
        "    return skeleton[1:-1, 1:-1]\n"
      ]
    },
    {
      "cell_type": "code",
      "execution_count": 139,
      "metadata": {},
      "outputs": [
        {
          "name": "stdout",
          "output_type": "stream",
          "text": [
            "(328, 400)\n"
          ]
        },
        {
          "data": {
            "text/plain": [
              "Text(0.5, 0.98, 'Morphological Thinning')"
            ]
          },
          "execution_count": 139,
          "metadata": {},
          "output_type": "execute_result"
        },
        {
          "data": {
            "image/png": "[encoded data removed]",
            "text/plain": [
              "<Figure size 576x288 with 3 Axes>"
            ]
          },
          "metadata": {
            "needs_background": "light"
          },
          "output_type": "display_data"
        }
      ],
      "source": [
        "# Load image from skimage dataset\n",
        "# Invert the horse image\n",
        "image = np.array(invert(data.horse()))\n",
        "print(image.shape)\n",
        "\n",
        "skeleton_pruned = morph_thinning_skeletonize(\n",
        "    image, save_steps=True, path_to_save_steps=\"morph_thinning/\", pruning=True)\n",
        "skeleton = morph_thinning_skeletonize(\n",
        "    image, save_steps=True, path_to_save_steps=\"morph_thinning/\")\n",
        "\n",
        "# display results\n",
        "fig, axes = plt.subplots(nrows=1, ncols=3, figsize=(8, 4),\n",
        "                         sharex=True, sharey=True)\n",
        "\n",
        "ax = axes.ravel()\n",
        "\n",
        "ax[0].imshow(image, cmap=plt.cm.gray)\n",
        "ax[0].axis('off')\n",
        "ax[0].set_title('original', fontsize=15)\n",
        "\n",
        "ax[1].imshow(skeleton, cmap=plt.cm.gray)\n",
        "ax[1].axis('off')\n",
        "ax[1].set_title('skeleton', fontsize=15)\n",
        "\n",
        "ax[2].imshow(skeleton_pruned, cmap=plt.cm.gray)\n",
        "ax[2].axis('off')\n",
        "ax[2].set_title('skeleton pruned 10 iters', fontsize=15)\n",
        "\n",
        "fig.tight_layout()\n",
        "fig.suptitle(\"Morphological Thinning\", fontsize=25)\n"
      ]
    },
    {
      "cell_type": "code",
      "execution_count": null,
      "metadata": {},
      "outputs": [],
      "source": [
        "!ffmpeg - y - framerate 25 - pattern_type glob - i 'morph_thinning/*.png' - c: v libx264 - pix_fmt yuv420p morph_thinning/out.mp4\n"
      ]
    },
    {
      "cell_type": "code",
      "execution_count": null,
      "metadata": {},
      "outputs": [],
      "source": []
    }
  ],
  "metadata": {
    "colab": {
      "collapsed_sections": [],
      "name": "Skeletonization2D.ipynb",
      "provenance": []
    },
    "kernelspec": {
      "display_name": "Python 3",
      "name": "python3"
    },
    "language_info": {
      "codemirror_mode": {
        "name": "ipython",
        "version": 3
      },
      "file_extension": ".py",
      "mimetype": "text/x-python",
      "name": "python",
      "nbconvert_exporter": "python",
      "pygments_lexer": "ipython3",
      "version": "3.9.10"
    }
  },
  "nbformat": 4,
  "nbformat_minor": 0
}
